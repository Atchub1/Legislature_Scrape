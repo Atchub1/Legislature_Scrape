{
 "cells": [
  {
   "cell_type": "markdown",
   "metadata": {},
   "source": [
    "# Objective: Scrape everything on the page\n",
    " - creating breif of each legislator that contains sentator and rep info for each distict (for a 3rd party)\n",
    "     - legislative name/contact info\n",
    "     - picture\n",
    "     - capital office location\n",
    "     - district office location \n",
    "     - JJ usually prints a page ith senator info on front, and rep on back\n",
    "        "
   ]
  },
  {
   "cell_type": "code",
   "execution_count": 12,
   "metadata": {},
   "outputs": [],
   "source": [
    "# import dependacies \n",
    "\n",
    "from splinter import Browser\n",
    "from bs4 import BeautifulSoup\n",
    "import requests\n",
    "import re"
   ]
  },
  {
   "cell_type": "code",
   "execution_count": 54,
   "metadata": {},
   "outputs": [],
   "source": [
    "# set up the chrome driever\n",
    "executable_path = {'executable_path': 'chromedriver.exe'}\n",
    "browser = Browser('chrome', **executable_path, headless=False)"
   ]
  },
  {
   "cell_type": "code",
   "execution_count": 55,
   "metadata": {},
   "outputs": [],
   "source": [
    "# IL Genearl Assembly homepage\n",
    "url = 'http://www.ilga.gov'"
   ]
  },
  {
   "cell_type": "code",
   "execution_count": 56,
   "metadata": {},
   "outputs": [],
   "source": [
    "# retrieve the webpage, create BeautifulSoup object to parse the data\n",
    "browser.visit(url)\n",
    "html = browser.html\n",
    "soup = BeautifulSoup(html, 'html.parser')\n",
    "# print(soup.prettify())"
   ]
  },
  {
   "cell_type": "markdown",
   "metadata": {},
   "source": [
    "the tabel is in the body of the page\n",
    "    this tabel is in the td of another table\n",
    "  \n",
    "    this div is the td of a table\n",
    "    <div>\n",
    "    <table>\n",
    "    <tbody>\n",
    "    <tr>\n",
    "    <td>\n",
    "    <a class=\"homemenu\" href=\"/senate/\" title=\"View the biography, sponsored bills and committees for each Senate member\">\n",
    "                Members"
   ]
  },
  {
   "cell_type": "code",
   "execution_count": 57,
   "metadata": {},
   "outputs": [
    {
     "name": "stdout",
     "output_type": "stream",
     "text": [
      "http://www.ilga.gov/senate/\n"
     ]
    }
   ],
   "source": [
    "# Locate link to all Senators and go to the page \n",
    "links = soup.find_all(href=re.compile(\"/senate/\"), text='Members')\n",
    "\n",
    "for link in links:\n",
    "    reference = link.get('href')\n",
    "#     browser.click_link_by_partial_text('Members')\n",
    "    senate_url = url+reference\n",
    "print(senate_url)\n",
    "browser.visit(senate_url)\n",
    "html = browser.html\n",
    "senate_soup = BeautifulSoup(html, 'html.parser')\n",
    "# print(senate_soup.prettify())"
   ]
  },
  {
   "cell_type": "code",
   "execution_count": 58,
   "metadata": {},
   "outputs": [],
   "source": [
    "# for link in senate_soup.find_all('a'):\n",
    "#     print(link.get('href'))\n",
    "\n",
    "senator_links = senate_soup.find_all('a', {'class':'notranslate'})\n",
    "# senate_soup.find_all('a')\n",
    "\n",
    "# create empty list to hold all member urls\n",
    "senator_link_list = []\n",
    "\n",
    "# loop though senate page and add each member link to the senator_link_list\n",
    "for link in senator_links:\n",
    "    reference = link.get('href')\n",
    "#     browser.click_link_by_partial_text('Members')\n",
    "    senator_url = url+reference\n",
    "    senator_link_list.append(senator_url)\n",
    "    \n",
    "# print(senator_link_list[0])"
   ]
  },
  {
   "cell_type": "markdown",
   "metadata": {},
   "source": [
    "### Work with the link to the 1st senator's page, create series of functions to obtain the information on thier page. "
   ]
  },
  {
   "cell_type": "code",
   "execution_count": 59,
   "metadata": {},
   "outputs": [],
   "source": [
    "# visit the first senator page\n",
    "\n",
    "browser.visit(senator_link_list[11])\n",
    "html = browser.html\n",
    "senator_soup = BeautifulSoup(html, 'html.parser')\n",
    "# print(senator_soup.prettify)"
   ]
  },
  {
   "cell_type": "code",
   "execution_count": 60,
   "metadata": {},
   "outputs": [
    {
     "name": "stdout",
     "output_type": "stream",
     "text": [
      "John J. Cullerton (D)\n",
      "6th\n"
     ]
    }
   ],
   "source": [
    "# Obtain the senator's and district number\n",
    "senator_name = senator_soup.find('span', {'class':'notranslate'}).text\n",
    "senator_district = senator_soup.find('span', {'class':'heading2 notranslate'}).text\n",
    "\n",
    "print(senator_name)\n",
    "print(senator_district)"
   ]
  },
  {
   "cell_type": "code",
   "execution_count": 61,
   "metadata": {},
   "outputs": [
    {
     "data": {
      "text/plain": [
       "'http://www.ilga.gov/images/members/{56A810B7-0182-4539-9A97-6F097C80B818}.jpg'"
      ]
     },
     "execution_count": 61,
     "metadata": {},
     "output_type": "execute_result"
    }
   ],
   "source": [
    "# Obtain the link to the image of the senator \n",
    "\n",
    "# Obtain the parital image link from the senator's webpage\n",
    "senator_img_partial = senator_soup.find('table', {'class' : 'notranslate'}).img['src']\n",
    "# senator_img_partial\n",
    "\n",
    "\n",
    "# obtain the full image link by combining the orignal il.gov url with the partial senator image link\n",
    "senator_img = url + senator_img_partial\n",
    "senator_img"
   ]
  },
  {
   "cell_type": "code",
   "execution_count": 62,
   "metadata": {},
   "outputs": [
    {
     "data": {
      "text/plain": [
       "'President of the Senate'"
      ]
     },
     "execution_count": 62,
     "metadata": {},
     "output_type": "execute_result"
    }
   ],
   "source": [
    "# Get the leadership name\n",
    "senator_position_all = senator_soup.find_all('span', {'class':'heading2'})\n",
    "senator_position = senator_position_all[3].text\n",
    "senator_position"
   ]
  },
  {
   "cell_type": "code",
   "execution_count": 63,
   "metadata": {},
   "outputs": [
    {
     "data": {
      "text/plain": [
       "[<td class=\"member\" valign=\"top\" width=\"100%\"><br/><b>Springfield Office:</b></td>,\n",
       " <td class=\"member\" width=\"100%\">Senator 6th District</td>,\n",
       " <td class=\"member\" width=\"100%\">327 Capitol Building</td>,\n",
       " <td class=\"member\" width=\"100%\">Springfield, IL   62706    </td>,\n",
       " <td class=\"member\" width=\"100%\">(217) 782-2728</td>,\n",
       " <td class=\"member\" width=\"100%\"> </td>,\n",
       " <td class=\"member\" width=\"100%\"></td>,\n",
       " <td class=\"member\" width=\"100%\"><b>District Office:</b></td>,\n",
       " <td class=\"member\" width=\"100%\">1726 W. Belmont</td>,\n",
       " <td class=\"member\" width=\"100%\">Chicago, IL  60657    </td>,\n",
       " <td class=\"member\" width=\"100%\">(773) 883-0770</td>,\n",
       " <td class=\"member\"><b>Years served: </b> 1979 - 1991 (House); 1991 - Present (Senate)<br/><br/><b>Committee assignments:</b> Committee of the Whole; Executive.<br/><br/><b>Biography:</b> Attorney; born Oct. 28, 1948, in Chicago; B.A., political science, Loyola University; J.D., Loyola University Law School; served in Illinois National Guard, 1970-76; former Assistant Public Defender; married (wife, Pamela), has five children.\n",
       " \n",
       " <br/><br/></td>]"
      ]
     },
     "execution_count": 63,
     "metadata": {},
     "output_type": "execute_result"
    }
   ],
   "source": [
    "# Most of the sentor info are in tables, so can gather the address and committee assignments from td in the \"member\" class\n",
    "senator_info_list = senator_soup.find_all('td', {'class': 'member'})\n",
    "senator_info_list"
   ]
  },
  {
   "cell_type": "code",
   "execution_count": 64,
   "metadata": {},
   "outputs": [],
   "source": [
    "# Springfield office information\n",
    "\n",
    "senator_springfield_address_line1 = senator_info_list[1].text\n",
    "# senator_springfield_address_line1\n",
    "senator_springfield_address_line2 = senator_info_list[2].text\n",
    "senator_springfield_address_line3 = senator_info_list[3].text\n",
    "\n",
    "senator_springfield_phone_number = senator_info_list[4].text\n"
   ]
  },
  {
   "cell_type": "code",
   "execution_count": 65,
   "metadata": {},
   "outputs": [],
   "source": [
    "#  District office information\n",
    "\n",
    "senator_district_address_line1 = senator_info_list[8].text\n",
    "\n",
    "senator_district_address_line2 = senator_info_list[9].text\n",
    "senator_district_address_line3 = senator_info_list[10].text\n",
    "\n",
    "senator_district_phone_number = senator_info_list[11].text\n",
    "\n",
    "# senator_district_address_line1"
   ]
  },
  {
   "cell_type": "code",
   "execution_count": 66,
   "metadata": {},
   "outputs": [
    {
     "ename": "IndexError",
     "evalue": "list index out of range",
     "output_type": "error",
     "traceback": [
      "\u001b[1;31m---------------------------------------------------------------------------\u001b[0m",
      "\u001b[1;31mIndexError\u001b[0m                                Traceback (most recent call last)",
      "\u001b[1;32m<ipython-input-66-a642546834e1>\u001b[0m in \u001b[0;36m<module>\u001b[1;34m\u001b[0m\n\u001b[0;32m      1\u001b[0m \u001b[1;31m# Senator info: The # of years served, committee assignments, and biographhy are all under the same child tag\u001b[0m\u001b[1;33m\u001b[0m\u001b[1;33m\u001b[0m\u001b[1;33m\u001b[0m\u001b[0m\n\u001b[0;32m      2\u001b[0m \u001b[1;33m\u001b[0m\u001b[0m\n\u001b[1;32m----> 3\u001b[1;33m \u001b[0msenator_bio_info\u001b[0m  \u001b[1;33m=\u001b[0m \u001b[0msenator_info_list\u001b[0m\u001b[1;33m[\u001b[0m\u001b[1;36m12\u001b[0m\u001b[1;33m]\u001b[0m\u001b[1;33m.\u001b[0m\u001b[0mtext\u001b[0m\u001b[1;33m\u001b[0m\u001b[1;33m\u001b[0m\u001b[0m\n\u001b[0m\u001b[0;32m      4\u001b[0m \u001b[0msenator_bio_info\u001b[0m\u001b[1;33m\u001b[0m\u001b[1;33m\u001b[0m\u001b[0m\n",
      "\u001b[1;31mIndexError\u001b[0m: list index out of range"
     ]
    }
   ],
   "source": [
    "# Senator info: The # of years served, committee assignments, and biographhy are all under the same child tag\n",
    "\n",
    "senator_bio_info  = senator_info_list[12].text\n",
    "senator_bio_info"
   ]
  },
  {
   "cell_type": "code",
   "execution_count": 25,
   "metadata": {},
   "outputs": [
    {
     "data": {
      "text/plain": [
       "[<a class=\"notranslate\" href=\"/house/Rep.asp?MemberID=2688\">Tony McCombie</a>,\n",
       " <a class=\"notranslate\" href=\"/house/Rep.asp?MemberID=2685\">Michael Halpin</a>]"
      ]
     },
     "execution_count": 25,
     "metadata": {},
     "output_type": "execute_result"
    }
   ],
   "source": [
    "ass_reps_tag = senator_soup.find_all('a', {'class': 'notranslate'})\n",
    "ass_reps_tag"
   ]
  },
  {
   "cell_type": "code",
   "execution_count": 26,
   "metadata": {},
   "outputs": [],
   "source": [
    "current_senator_assoc_reps = []\n",
    "for tag in ass_reps_tag:\n",
    "    rep = tag.text\n",
    "    current_senator_assoc_reps.append(rep)\n",
    "#     print(rep)\n",
    "# current_senator_assoc_reps"
   ]
  },
  {
   "cell_type": "markdown",
   "metadata": {},
   "source": [
    "## Create a function that will go to each senator's page and scrape thier information."
   ]
  },
  {
   "cell_type": "code",
   "execution_count": 41,
   "metadata": {},
   "outputs": [],
   "source": [
    "# Create a function that will go to each senator's page and scrape thier information\n",
    "\n",
    "\n",
    "def senator_scrape(link):\n",
    "\n",
    "    # visit the first senator page\n",
    "    executable_path = {'executable_path': 'chromedriver.exe'}\n",
    "    browser = Browser('chrome', **executable_path, headless=False)\n",
    "    browser.visit(link)\n",
    "    html = browser.html\n",
    "    senator_soup = BeautifulSoup(html, 'html.parser')\n",
    "\n",
    "\n",
    "    \n",
    "    # Obtain the senator's and district number\n",
    "    senator_name = senator_soup.find('span', {'class':'notranslate'}).text\n",
    "    senator_district = senator_soup.find('span', {'class':'heading2 notranslate'}).text\n",
    "\n",
    "\n",
    "    # Obtain the parital image link from the senator's webpage\n",
    "    senator_img_partial = senator_soup.find('table', {'class' : 'notranslate'}).img['src']\n",
    "\n",
    "\n",
    "    # obtain the full image link by combining the orignal il.gov url with the partial senator image link\n",
    "    senator_img = url + senator_img_partial\n",
    "\n",
    "\n",
    "    # Get the leadership position\n",
    "    senator_position_all = senator_soup.find_all('span', {'class':'heading2'})\n",
    "    try:\n",
    "        senator_position = senator_position_all[3].text\n",
    "        \n",
    "    except: \n",
    "        senator_position = 'none'\n",
    "        print('No position exists')\n",
    "\n",
    "\n",
    "    # Most of the sentor info are in tables, so can gather the address and committee assignments from td in the \"member\" class\n",
    "    senator_info_list = senator_soup.find_all('td', {'class': 'member'})\n",
    "\n",
    "\n",
    "    # Springfield office information\n",
    "    senator_springfield_address_line1 = senator_info_list[1].text\n",
    "    senator_springfield_address_line2 = senator_info_list[2].text\n",
    "    senator_springfield_address_line3 = senator_info_list[3].text\n",
    "\n",
    "    senator_springfield_phone_number = senator_info_list[4].text\n",
    "\n",
    "\n",
    "    #  District office information\n",
    "    senator_district_address_line1 = senator_info_list[8].text\n",
    "    senator_district_address_line2 = senator_info_list[9].text\n",
    "    senator_district_address_line3 = senator_info_list[10].text\n",
    "\n",
    "    senator_district_phone_number = senator_info_list[11].text\n",
    "\n",
    "  \n",
    "    # Senator info: The # of years served, committee assignments, and biographhy are all under the same child tag\n",
    "    senator_bio_info  = senator_info_list[12].text\n",
    "\n",
    "    assoc_reps_tag = senator_soup.find_all('a', {'class': 'notranslate'})\n",
    "\n",
    "\n",
    "\n",
    "    current_senator_assoc_reps = []\n",
    "    for tag in assoc_reps_tag:\n",
    "        rep = tag.text\n",
    "        current_senator_assoc_reps.append(rep)\n",
    "\n",
    "\n",
    "    all_senator_details = {\n",
    "        'name': senator_name,\n",
    "        'district': senator_district,\n",
    "        'picture': senator_img,\n",
    "        'role': senator_position,\n",
    "\n",
    "        'spg_address_line1': senator_springfield_address_line1,\n",
    "        'spg_address_line2': senator_springfield_address_line2,\n",
    "        'spg_address_line3': senator_springfield_address_line3,\n",
    "        'spg_phone_number': senator_springfield_phone_number,\n",
    "\n",
    "        'dst_address_line1': senator_district_address_line1,\n",
    "        'dst_address_line2': senator_district_address_line2,\n",
    "        'dst_address_line3': senator_district_address_line3,\n",
    "        'dst_phne_number' : senator_district_phone_number,\n",
    "        \n",
    "        'bio' : senator_bio_info.\n",
    "        \n",
    "        'associate_reps' : current_senator_assoc_reps\n",
    "\n",
    "    }\n",
    "\n",
    "    # close the windo\n",
    "    browser.quit()\n",
    "\n",
    "    return all_senator_details"
   ]
  },
  {
   "cell_type": "code",
   "execution_count": 42,
   "metadata": {},
   "outputs": [
    {
     "name": "stdout",
     "output_type": "stream",
     "text": [
      "No position exists\n"
     ]
    },
    {
     "data": {
      "text/plain": [
       "{'name': 'Omar Aquino (D)',\n",
       " 'district': '2nd',\n",
       " 'picture': 'http://www.ilga.gov/images/members/{79A5CDE2-DD9F-423E-83F0-4643FDB13ABB}.jpg',\n",
       " 'role': 'none',\n",
       " 'spg_address_line1': 'Senator 2nd District',\n",
       " 'spg_address_line2': '623 Capitol Building',\n",
       " 'spg_address_line3': 'Springfield, IL \\xa0\\xa062706    ',\n",
       " 'spg_phone_number': '(217) 782-5652',\n",
       " 'dst_address_line1': '2511 W. Division st.',\n",
       " 'dst_address_line2': 'Chicago, IL\\xa0\\xa060622    ',\n",
       " 'dst_address_line3': '(773) 292-0202',\n",
       " 'dst_phne_number': '(773) 292-1903 FAX',\n",
       " 'associate_reps': ['Eva Dina Delgado', 'Delia C. Ramirez']}"
      ]
     },
     "execution_count": 42,
     "metadata": {},
     "output_type": "execute_result"
    }
   ],
   "source": [
    "# executable_path = {'executable_path': 'chromedriver.exe'}\n",
    "# browser = Browser('chrome', **executable_path, headless=False)\n",
    "# link = senator_link_list[1]\n",
    "# senator_scrape(link)"
   ]
  },
  {
   "cell_type": "code",
   "execution_count": 52,
   "metadata": {},
   "outputs": [
    {
     "name": "stdout",
     "output_type": "stream",
     "text": [
      "---------------------------\n",
      "Trying senator 0\n",
      "---------------------------\n",
      "Trying senator 1\n",
      "No position exists\n",
      "---------------------------\n",
      "Trying senator 2\n",
      "---------------------------\n",
      "Trying senator 3\n",
      "No position exists\n",
      "---------------------------\n",
      "Trying senator 4\n",
      "No position exists\n",
      "---------------------------\n",
      "Trying senator 5\n",
      "No position exists\n",
      "---------------------------\n",
      "Trying senator 6\n",
      "---------------------------\n",
      "Trying senator 7\n",
      "No position exists\n",
      "---------------------------\n",
      "Trying senator 8\n",
      "No position exists\n",
      "---------------------------\n",
      "Trying senator 9\n",
      "---------------------------\n",
      "Trying senator 10\n",
      "No position exists\n",
      "---------------------------\n",
      "Trying senator 11\n",
      "There are errors with 11\n",
      "---------------------------\n",
      "Trying senator 12\n",
      "No position exists\n",
      "---------------------------\n",
      "Trying senator 13\n",
      "No position exists\n",
      "---------------------------\n",
      "Trying senator 14\n",
      "No position exists\n",
      "---------------------------\n",
      "Trying senator 15\n",
      "No position exists\n",
      "There are errors with 15\n",
      "---------------------------\n",
      "Trying senator 16\n",
      "No position exists\n",
      "---------------------------\n",
      "Trying senator 17\n",
      "No position exists\n",
      "---------------------------\n",
      "Trying senator 18\n",
      "No position exists\n",
      "---------------------------\n",
      "Trying senator 19\n",
      "No position exists\n",
      "---------------------------\n",
      "Trying senator 20\n",
      "No position exists\n",
      "---------------------------\n",
      "Trying senator 21\n",
      "---------------------------\n",
      "Trying senator 22\n",
      "No position exists\n",
      "---------------------------\n",
      "Trying senator 23\n",
      "No position exists\n",
      "---------------------------\n",
      "Trying senator 24\n",
      "---------------------------\n",
      "Trying senator 25\n",
      "---------------------------\n",
      "Trying senator 26\n",
      "No position exists\n",
      "---------------------------\n",
      "Trying senator 27\n",
      "No position exists\n",
      "---------------------------\n",
      "Trying senator 28\n",
      "---------------------------\n",
      "Trying senator 29\n",
      "No position exists\n",
      "---------------------------\n",
      "Trying senator 30\n",
      "---------------------------\n",
      "Trying senator 31\n",
      "---------------------------\n",
      "Trying senator 32\n",
      "No position exists\n",
      "---------------------------\n",
      "Trying senator 33\n",
      "---------------------------\n",
      "Trying senator 34\n",
      "No position exists\n",
      "---------------------------\n",
      "Trying senator 35\n",
      "No position exists\n",
      "---------------------------\n",
      "Trying senator 36\n",
      "No position exists\n",
      "---------------------------\n",
      "Trying senator 37\n",
      "No position exists\n",
      "---------------------------\n",
      "Trying senator 38\n",
      "No position exists\n",
      "---------------------------\n",
      "Trying senator 39\n",
      "---------------------------\n",
      "Trying senator 40\n",
      "No position exists\n",
      "---------------------------\n",
      "Trying senator 41\n",
      "There are errors with 41\n",
      "---------------------------\n",
      "Trying senator 42\n",
      "No position exists\n",
      "---------------------------\n",
      "Trying senator 43\n",
      "No position exists\n",
      "There are errors with 43\n",
      "---------------------------\n",
      "Trying senator 44\n",
      "---------------------------\n",
      "Trying senator 45\n",
      "---------------------------\n",
      "Trying senator 46\n",
      "---------------------------\n",
      "Trying senator 47\n",
      "---------------------------\n",
      "Trying senator 48\n",
      "No position exists\n",
      "There are errors with 48\n",
      "---------------------------\n",
      "Trying senator 49\n",
      "No position exists\n",
      "---------------------------\n",
      "Trying senator 50\n",
      "No position exists\n",
      "---------------------------\n",
      "Trying senator 51\n",
      "No position exists\n",
      "There are errors with 51\n",
      "---------------------------\n",
      "Trying senator 52\n",
      "No position exists\n",
      "---------------------------\n",
      "Trying senator 53\n",
      "---------------------------\n",
      "Trying senator 54\n",
      "---------------------------\n",
      "Trying senator 55\n",
      "No position exists\n",
      "---------------------------\n",
      "Trying senator 56\n",
      "No position exists\n",
      "---------------------------\n",
      "Trying senator 57\n",
      "No position exists\n",
      "---------------------------\n",
      "Trying senator 58\n",
      "No position exists\n",
      "---------------------------\n",
      "Trying senator 59\n",
      "No position exists\n",
      "---------------------------\n",
      "Trying senator 60\n",
      "No position exists\n"
     ]
    }
   ],
   "source": [
    "senator_information = {}\n",
    "senator_number = 0\n",
    "\n",
    "for link in senator_link_list:\n",
    "    try: \n",
    "        print('---------------------------')\n",
    "        print(f'Trying senator {senator_number}')\n",
    "        \n",
    "        senator_scrape(link)\n",
    "    except: \n",
    "        print(f'There are errors with {senator_number}')\n",
    "        \n",
    "    senator_number += 1\n",
    "        \n",
    "#     senator_information[all_senator_details['name']] = all_senator_details\n",
    "    # senator_number = senator_number + 1"
   ]
  },
  {
   "cell_type": "markdown",
   "metadata": {},
   "source": [
    "### There are errors with senators 11, 15, 41, 43, 48, 51"
   ]
  },
  {
   "cell_type": "markdown",
   "metadata": {},
   "source": []
  }
 ],
 "metadata": {
  "kernelspec": {
   "display_name": "Python 3",
   "language": "python",
   "name": "python3"
  },
  "language_info": {
   "codemirror_mode": {
    "name": "ipython",
    "version": 3
   },
   "file_extension": ".py",
   "mimetype": "text/x-python",
   "name": "python",
   "nbconvert_exporter": "python",
   "pygments_lexer": "ipython3",
   "version": "3.7.4"
  }
 },
 "nbformat": 4,
 "nbformat_minor": 2
}
