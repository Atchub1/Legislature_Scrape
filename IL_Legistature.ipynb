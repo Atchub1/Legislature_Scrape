{
 "cells": [
  {
   "cell_type": "markdown",
   "metadata": {},
   "source": [
    "# Objective: Scrape everything on the page\n",
    " - creating breif of each legislator that contains sentator and rep info for each distict (for a 3rd party)\n",
    "     - legislative name/contact info\n",
    "     - picture\n",
    "     - capital office location\n",
    "     - district office location \n",
    "     - JJ usually prints a page ith senator info on front, and rep on back\n",
    "        "
   ]
  },
  {
   "cell_type": "markdown",
   "metadata": {},
   "source": [
    "## First: Obtain the list of links to each Senator's webpage"
   ]
  },
  {
   "cell_type": "code",
   "execution_count": 1,
   "metadata": {},
   "outputs": [],
   "source": [
    "# import dependacies \n",
    "\n",
    "from splinter import Browser\n",
    "from bs4 import BeautifulSoup\n",
    "import requests\n",
    "import re\n",
    "import pandas as pd"
   ]
  },
  {
   "cell_type": "code",
   "execution_count": 2,
   "metadata": {},
   "outputs": [],
   "source": [
    "# set up the chrome driever\n",
    "executable_path = {'executable_path': 'chromedriver.exe'}\n",
    "browser = Browser('chrome', **executable_path, headless=False)"
   ]
  },
  {
   "cell_type": "code",
   "execution_count": 3,
   "metadata": {},
   "outputs": [],
   "source": [
    "# IL Genearl Assembly homepage\n",
    "url = 'http://www.ilga.gov'"
   ]
  },
  {
   "cell_type": "code",
   "execution_count": 4,
   "metadata": {},
   "outputs": [],
   "source": [
    "# retrieve the webpage, create BeautifulSoup object to parse the data\n",
    "browser.visit(url)\n",
    "html = browser.html\n",
    "soup = BeautifulSoup(html, 'html.parser')\n",
    "# print(soup.prettify())"
   ]
  },
  {
   "cell_type": "markdown",
   "metadata": {},
   "source": [
    "the tabel is in the body of the page\n",
    "    this tabel is in the td of another table\n",
    "  \n",
    "    this div is the td of a table\n",
    "    <div>\n",
    "    <table>\n",
    "    <tbody>\n",
    "    <tr>\n",
    "    <td>\n",
    "    <a class=\"homemenu\" href=\"/senate/\" title=\"View the biography, sponsored bills and committees for each Senate member\">\n",
    "                Members"
   ]
  },
  {
   "cell_type": "code",
   "execution_count": 5,
   "metadata": {},
   "outputs": [
    {
     "name": "stdout",
     "output_type": "stream",
     "text": [
      "http://www.ilga.gov/senate/\n"
     ]
    }
   ],
   "source": [
    "# Locate link to all Senators and go to the page \n",
    "links = soup.find_all(href=re.compile(\"/senate/\"), text='Members')\n",
    "\n",
    "for link in links:\n",
    "    reference = link.get('href')\n",
    "#     browser.click_link_by_partial_text('Members')\n",
    "    senate_url = url+reference\n",
    "print(senate_url)\n",
    "browser.visit(senate_url)\n",
    "html = browser.html\n",
    "senate_soup = BeautifulSoup(html, 'html.parser')\n",
    "# print(senate_soup.prettify())"
   ]
  },
  {
   "cell_type": "code",
   "execution_count": 6,
   "metadata": {},
   "outputs": [],
   "source": [
    "# for link in senate_soup.find_all('a'):\n",
    "#     print(link.get('href'))\n",
    "\n",
    "senator_links = senate_soup.find_all('a', {'class':'notranslate'})\n",
    "# senate_soup.find_all('a')\n",
    "\n",
    "# create empty list to hold all member urls\n",
    "senator_link_list = []\n",
    "\n",
    "# loop though senate page and add each member link to the senator_link_list\n",
    "for link in senator_links:\n",
    "    reference = link.get('href')\n",
    "#     browser.click_link_by_partial_text('Members')\n",
    "    senator_url = url+reference\n",
    "    senator_link_list.append(senator_url)\n",
    "    \n",
    "# print(senator_link_list[0])"
   ]
  },
  {
   "cell_type": "code",
   "execution_count": 7,
   "metadata": {},
   "outputs": [],
   "source": [
    "# close the window\n",
    "browser.quit()\n",
    "\n",
    "#  save the list \n",
    "\n"
   ]
  },
  {
   "cell_type": "markdown",
   "metadata": {},
   "source": [
    "### Work with the link to the 1st senator's page, create series of functions to obtain the information on thier page. "
   ]
  },
  {
   "cell_type": "code",
   "execution_count": null,
   "metadata": {},
   "outputs": [],
   "source": [
    "# visit the first senator page\n",
    "\n",
    "browser.visit(senator_link_list[0])\n",
    "html = browser.html\n",
    "senator_soup = BeautifulSoup(html, 'html.parser')\n",
    "# print(senator_soup.prettify)"
   ]
  },
  {
   "cell_type": "code",
   "execution_count": null,
   "metadata": {},
   "outputs": [],
   "source": [
    "# Obtain the senator's and district number\n",
    "senator_name = senator_soup.find('span', {'class':'notranslate'}).text\n",
    "senator_district = senator_soup.find('span', {'class':'heading2 notranslate'}).text\n",
    "\n",
    "print(senator_name)\n",
    "print(senator_district)"
   ]
  },
  {
   "cell_type": "code",
   "execution_count": null,
   "metadata": {},
   "outputs": [],
   "source": [
    "# Obtain the link to the image of the senator \n",
    "\n",
    "# Obtain the parital image link from the senator's webpage\n",
    "senator_img_partial = senator_soup.find('table', {'class' : 'notranslate'}).img['src']\n",
    "# senator_img_partial\n",
    "\n",
    "\n",
    "# obtain the full image link by combining the orignal il.gov url with the partial senator image link\n",
    "senator_img = url + senator_img_partial\n",
    "senator_img"
   ]
  },
  {
   "cell_type": "code",
   "execution_count": null,
   "metadata": {},
   "outputs": [],
   "source": [
    "# Get the leadership name\n",
    "senator_position_all = senator_soup.find_all('span', {'class':'heading2'})\n",
    "senator_position = senator_position_all[3].text\n",
    "senator_position"
   ]
  },
  {
   "cell_type": "code",
   "execution_count": null,
   "metadata": {},
   "outputs": [],
   "source": [
    "# Most of the sentor info are in tables, so can gather the address and committee assignments from td in the \"member\" class\n",
    "senator_info_list = senator_soup.find_all('td', {'class': 'member'})\n",
    "senator_info_list"
   ]
  },
  {
   "cell_type": "code",
   "execution_count": null,
   "metadata": {},
   "outputs": [],
   "source": [
    "# Springfield office information\n",
    "\n",
    "senator_springfield_address_line1 = senator_info_list[1].text\n",
    "# senator_springfield_address_line1\n",
    "senator_springfield_address_line2 = senator_info_list[2].text\n",
    "senator_springfield_address_line3 = senator_info_list[3].text\n",
    "\n",
    "senator_springfield_phone_number = senator_info_list[4].text\n"
   ]
  },
  {
   "cell_type": "code",
   "execution_count": null,
   "metadata": {},
   "outputs": [],
   "source": [
    "#  District office information\n",
    "\n",
    "senator_district_address_line1 = senator_info_list[8].text\n",
    "\n",
    "senator_district_address_line2 = senator_info_list[9].text\n",
    "senator_district_address_line3 = senator_info_list[10].text\n",
    "\n",
    "senator_district_phone_number = senator_info_list[11].text\n",
    "\n",
    "# senator_district_address_line1"
   ]
  },
  {
   "cell_type": "code",
   "execution_count": null,
   "metadata": {},
   "outputs": [],
   "source": [
    "# Senator info: The # of years served, committee assignments, and biographhy are all under the same child tag\n",
    "\n",
    "senator_bio_info  = senator_info_list[12].text\n",
    "senator_bio_info"
   ]
  },
  {
   "cell_type": "code",
   "execution_count": null,
   "metadata": {},
   "outputs": [],
   "source": [
    "ass_reps_tag = senator_soup.find_all('a', {'class': 'notranslate'})\n",
    "ass_reps_tag"
   ]
  },
  {
   "cell_type": "code",
   "execution_count": null,
   "metadata": {},
   "outputs": [],
   "source": [
    "current_senator_assoc_reps = []\n",
    "for tag in ass_reps_tag:\n",
    "    rep = tag.text\n",
    "    current_senator_assoc_reps.append(rep)\n",
    "#     print(rep)\n",
    "# current_senator_assoc_reps"
   ]
  },
  {
   "cell_type": "code",
   "execution_count": null,
   "metadata": {},
   "outputs": [],
   "source": [
    "# close the window\n",
    "browser.quit()"
   ]
  },
  {
   "cell_type": "code",
   "execution_count": null,
   "metadata": {},
   "outputs": [],
   "source": []
  },
  {
   "cell_type": "markdown",
   "metadata": {},
   "source": [
    "## Next: Create a function that will go to each senator's page and scrape thier information."
   ]
  },
  {
   "cell_type": "code",
   "execution_count": 8,
   "metadata": {},
   "outputs": [],
   "source": [
    "# Create a function that will go to each senator's page and scrape thier information\n",
    "\n",
    "\n",
    "def senator_scrape(link):\n",
    "\n",
    "    # visit the first senator page\n",
    "    executable_path = {'executable_path': 'chromedriver.exe'}\n",
    "    browser = Browser('chrome', **executable_path, headless=False)\n",
    "    browser.visit(link)\n",
    "    html = browser.html\n",
    "    senator_soup = BeautifulSoup(html, 'html.parser')\n",
    "\n",
    "\n",
    "    \n",
    "    # Obtain the senator's and district number\n",
    "    senator_name = senator_soup.find('span', {'class':'notranslate'}).text\n",
    "    senator_district = senator_soup.find('span', {'class':'heading2 notranslate'}).text\n",
    "\n",
    "\n",
    "    # Obtain the parital image link from the senator's webpage\n",
    "    senator_img_partial = senator_soup.find('table', {'class' : 'notranslate'}).img['src']\n",
    "\n",
    "\n",
    "    # obtain the full image link by combining the orignal il.gov url with the partial senator image link\n",
    "    senator_img = url + senator_img_partial\n",
    "\n",
    "\n",
    "    # Get the leadership position\n",
    "    senator_position_all = senator_soup.find_all('span', {'class':'heading2'})\n",
    "    try:\n",
    "        senator_position = senator_position_all[3].text\n",
    "        \n",
    "    except: \n",
    "        senator_position = 'none'\n",
    "        print('No position exists')\n",
    "\n",
    "\n",
    "    # Most of the sentor info are in tables, so can gather the address and committee assignments from td in the \"member\" class\n",
    "    senator_info_list = senator_soup.find_all('td', {'class': 'member'})\n",
    "\n",
    "\n",
    "    # Springfield office information\n",
    "    senator_springfield_address_line1 = senator_info_list[1].text\n",
    "    senator_springfield_address_line2 = senator_info_list[2].text\n",
    "    senator_springfield_address_line3 = senator_info_list[3].text\n",
    "\n",
    "    senator_springfield_phone_number = senator_info_list[4].text\n",
    "\n",
    "\n",
    "    #  District office information\n",
    "    senator_district_address_line1 = senator_info_list[8].text\n",
    "    senator_district_address_line2 = senator_info_list[9].text\n",
    "    senator_district_address_line3 = senator_info_list[10].text\n",
    "\n",
    "    senator_district_phone_number = senator_info_list[11].text\n",
    "\n",
    "  \n",
    "    # Senator info: The # of years served, committee assignments, and biographhy are all under the same child tag\n",
    "    senator_bio_info  = senator_info_list[12].text\n",
    "\n",
    "    assoc_reps_tag = senator_soup.find_all('a', {'class': 'notranslate'})\n",
    "\n",
    "\n",
    "\n",
    "    current_senator_assoc_reps = []\n",
    "    for tag in assoc_reps_tag:\n",
    "        rep = tag.text\n",
    "        current_senator_assoc_reps.append(rep)\n",
    "\n",
    "\n",
    "    all_senator_details = {\n",
    "        'name': senator_name,\n",
    "        'district': senator_district,\n",
    "        'picture': senator_img,\n",
    "        'role': senator_position,\n",
    "\n",
    "        'spg_address_line1': senator_springfield_address_line1,\n",
    "        'spg_address_line2': senator_springfield_address_line2,\n",
    "        'spg_address_line3': senator_springfield_address_line3,\n",
    "        'spg_phone_number': senator_springfield_phone_number,\n",
    "\n",
    "        'dst_address_line1': senator_district_address_line1,\n",
    "        'dst_address_line2': senator_district_address_line2,\n",
    "        'dst_address_line3': senator_district_address_line3,\n",
    "        'dst_phne_number' : senator_district_phone_number,\n",
    "        \n",
    "        'bio' : senator_bio_info,\n",
    "        \n",
    "        'associate_reps' : current_senator_assoc_reps\n",
    "\n",
    "    }\n",
    "\n",
    "    # close the window\n",
    "    browser.quit()\n",
    "\n",
    "    return all_senator_details"
   ]
  },
  {
   "cell_type": "code",
   "execution_count": null,
   "metadata": {},
   "outputs": [],
   "source": [
    "# executable_path = {'executable_path': 'chromedriver.exe'}\n",
    "# browser = Browser('chrome', **executable_path, headless=False)\n",
    "# link = senator_link_list[1]\n",
    "# senator_scrape(link)"
   ]
  },
  {
   "cell_type": "markdown",
   "metadata": {},
   "source": [
    "### Test the scrape function"
   ]
  },
  {
   "cell_type": "code",
   "execution_count": 9,
   "metadata": {},
   "outputs": [],
   "source": [
    "scraped_senator_details = senator_scrape(senator_link_list[0])"
   ]
  },
  {
   "cell_type": "code",
   "execution_count": 10,
   "metadata": {},
   "outputs": [
    {
     "data": {
      "text/plain": [
       "{'name': 'Neil Anderson (R)',\n",
       " 'district': '36th',\n",
       " 'picture': 'http://www.ilga.gov/images/members/{90CDA259-1DEA-4D18-AE97-30051E03D154}.jpg',\n",
       " 'role': 'Assistant Republican Leader',\n",
       " 'spg_address_line1': 'Senator 36th District',\n",
       " 'spg_address_line2': 'M103D  Capitol Building',\n",
       " 'spg_address_line3': 'Springfield, IL \\xa0\\xa062706    ',\n",
       " 'spg_phone_number': '(217) 782-5957',\n",
       " 'dst_address_line1': '1523 47th Ave.',\n",
       " 'dst_address_line2': 'Suite 2',\n",
       " 'dst_address_line3': 'Moline, IL\\xa0\\xa061265    ',\n",
       " 'dst_phne_number': '(309) 736-7084',\n",
       " 'bio': 'Years served:  Committee assignments: Committee of the Whole; Commerce and Economic Development; Energy and Public Utilities; Licensed Activities (Minority Spokesperson); Transportation; Veterans Affairs; Subcommittee on Capital (TR); Oversight Medicaid Mang. Care, Spec; Opioid Crisis Abatement Spec. Com..Biography: ',\n",
       " 'associate_reps': ['Tony McCombie', 'Michael Halpin']}"
      ]
     },
     "execution_count": 10,
     "metadata": {},
     "output_type": "execute_result"
    }
   ],
   "source": [
    "scraped_senator_details"
   ]
  },
  {
   "cell_type": "markdown",
   "metadata": {},
   "source": [
    "## Use the function to grab information about each senator, from thier website"
   ]
  },
  {
   "cell_type": "code",
   "execution_count": 12,
   "metadata": {},
   "outputs": [
    {
     "name": "stdout",
     "output_type": "stream",
     "text": [
      "---------------------------\n",
      "Trying senator 0\n",
      "---------------------------\n",
      "Trying senator 1\n",
      "No position exists\n",
      "---------------------------\n",
      "Trying senator 2\n"
     ]
    }
   ],
   "source": [
    "senator_information = {}\n",
    "senator_number = 0\n",
    "\n",
    "for link in senator_link_list:\n",
    "    try: \n",
    "        print('---------------------------')\n",
    "        print(f'Trying senator {senator_number}')\n",
    "        \n",
    "        senator_scrape(link)\n",
    "        \n",
    "        senator_information.update(scraped_senator_details)\n",
    "        \n",
    "    except: \n",
    "        print(f'There are errors with {senator_number}')\n",
    "        \n",
    "    senator_number += 1\n",
    "    \n",
    "    if senator_number == 3 :\n",
    "        break\n",
    "        \n",
    "#     senator_information[all_senator_details['name']] = all_senator_details\n",
    "    # senator_number = senator_number + 1"
   ]
  },
  {
   "cell_type": "markdown",
   "metadata": {},
   "source": [
    "### There are errors with senators 11, 15, 41, 43, 48, 51"
   ]
  },
  {
   "cell_type": "code",
   "execution_count": 13,
   "metadata": {},
   "outputs": [
    {
     "data": {
      "text/plain": [
       "{'name': 'Neil Anderson (R)',\n",
       " 'district': '36th',\n",
       " 'picture': 'http://www.ilga.gov/images/members/{90CDA259-1DEA-4D18-AE97-30051E03D154}.jpg',\n",
       " 'role': 'Assistant Republican Leader',\n",
       " 'spg_address_line1': 'Senator 36th District',\n",
       " 'spg_address_line2': 'M103D  Capitol Building',\n",
       " 'spg_address_line3': 'Springfield, IL \\xa0\\xa062706    ',\n",
       " 'spg_phone_number': '(217) 782-5957',\n",
       " 'dst_address_line1': '1523 47th Ave.',\n",
       " 'dst_address_line2': 'Suite 2',\n",
       " 'dst_address_line3': 'Moline, IL\\xa0\\xa061265    ',\n",
       " 'dst_phne_number': '(309) 736-7084',\n",
       " 'bio': 'Years served:  Committee assignments: Committee of the Whole; Commerce and Economic Development; Energy and Public Utilities; Licensed Activities (Minority Spokesperson); Transportation; Veterans Affairs; Subcommittee on Capital (TR); Oversight Medicaid Mang. Care, Spec; Opioid Crisis Abatement Spec. Com..Biography: ',\n",
       " 'associate_reps': ['Tony McCombie', 'Michael Halpin']}"
      ]
     },
     "execution_count": 13,
     "metadata": {},
     "output_type": "execute_result"
    }
   ],
   "source": [
    "senator_information"
   ]
  },
  {
   "cell_type": "code",
   "execution_count": 14,
   "metadata": {},
   "outputs": [],
   "source": [
    "senator_df = pd.DataFrame(senator_information)"
   ]
  },
  {
   "cell_type": "code",
   "execution_count": 15,
   "metadata": {},
   "outputs": [
    {
     "data": {
      "text/html": [
       "<div>\n",
       "<style scoped>\n",
       "    .dataframe tbody tr th:only-of-type {\n",
       "        vertical-align: middle;\n",
       "    }\n",
       "\n",
       "    .dataframe tbody tr th {\n",
       "        vertical-align: top;\n",
       "    }\n",
       "\n",
       "    .dataframe thead th {\n",
       "        text-align: right;\n",
       "    }\n",
       "</style>\n",
       "<table border=\"1\" class=\"dataframe\">\n",
       "  <thead>\n",
       "    <tr style=\"text-align: right;\">\n",
       "      <th></th>\n",
       "      <th>name</th>\n",
       "      <th>district</th>\n",
       "      <th>picture</th>\n",
       "      <th>role</th>\n",
       "      <th>spg_address_line1</th>\n",
       "      <th>spg_address_line2</th>\n",
       "      <th>spg_address_line3</th>\n",
       "      <th>spg_phone_number</th>\n",
       "      <th>dst_address_line1</th>\n",
       "      <th>dst_address_line2</th>\n",
       "      <th>dst_address_line3</th>\n",
       "      <th>dst_phne_number</th>\n",
       "      <th>bio</th>\n",
       "      <th>associate_reps</th>\n",
       "    </tr>\n",
       "  </thead>\n",
       "  <tbody>\n",
       "    <tr>\n",
       "      <td>0</td>\n",
       "      <td>Neil Anderson (R)</td>\n",
       "      <td>36th</td>\n",
       "      <td>http://www.ilga.gov/images/members/{90CDA259-1...</td>\n",
       "      <td>Assistant Republican Leader</td>\n",
       "      <td>Senator 36th District</td>\n",
       "      <td>M103D  Capitol Building</td>\n",
       "      <td>Springfield, IL   62706</td>\n",
       "      <td>(217) 782-5957</td>\n",
       "      <td>1523 47th Ave.</td>\n",
       "      <td>Suite 2</td>\n",
       "      <td>Moline, IL  61265</td>\n",
       "      <td>(309) 736-7084</td>\n",
       "      <td>Years served:  Committee assignments: Committe...</td>\n",
       "      <td>Tony McCombie</td>\n",
       "    </tr>\n",
       "    <tr>\n",
       "      <td>1</td>\n",
       "      <td>Neil Anderson (R)</td>\n",
       "      <td>36th</td>\n",
       "      <td>http://www.ilga.gov/images/members/{90CDA259-1...</td>\n",
       "      <td>Assistant Republican Leader</td>\n",
       "      <td>Senator 36th District</td>\n",
       "      <td>M103D  Capitol Building</td>\n",
       "      <td>Springfield, IL   62706</td>\n",
       "      <td>(217) 782-5957</td>\n",
       "      <td>1523 47th Ave.</td>\n",
       "      <td>Suite 2</td>\n",
       "      <td>Moline, IL  61265</td>\n",
       "      <td>(309) 736-7084</td>\n",
       "      <td>Years served:  Committee assignments: Committe...</td>\n",
       "      <td>Michael Halpin</td>\n",
       "    </tr>\n",
       "  </tbody>\n",
       "</table>\n",
       "</div>"
      ],
      "text/plain": [
       "                name district  \\\n",
       "0  Neil Anderson (R)     36th   \n",
       "1  Neil Anderson (R)     36th   \n",
       "\n",
       "                                             picture  \\\n",
       "0  http://www.ilga.gov/images/members/{90CDA259-1...   \n",
       "1  http://www.ilga.gov/images/members/{90CDA259-1...   \n",
       "\n",
       "                          role      spg_address_line1  \\\n",
       "0  Assistant Republican Leader  Senator 36th District   \n",
       "1  Assistant Republican Leader  Senator 36th District   \n",
       "\n",
       "         spg_address_line2            spg_address_line3 spg_phone_number  \\\n",
       "0  M103D  Capitol Building  Springfield, IL   62706       (217) 782-5957   \n",
       "1  M103D  Capitol Building  Springfield, IL   62706       (217) 782-5957   \n",
       "\n",
       "  dst_address_line1 dst_address_line2      dst_address_line3 dst_phne_number  \\\n",
       "0    1523 47th Ave.           Suite 2  Moline, IL  61265      (309) 736-7084   \n",
       "1    1523 47th Ave.           Suite 2  Moline, IL  61265      (309) 736-7084   \n",
       "\n",
       "                                                 bio  associate_reps  \n",
       "0  Years served:  Committee assignments: Committe...   Tony McCombie  \n",
       "1  Years served:  Committee assignments: Committe...  Michael Halpin  "
      ]
     },
     "execution_count": 15,
     "metadata": {},
     "output_type": "execute_result"
    }
   ],
   "source": [
    "senator_df"
   ]
  },
  {
   "cell_type": "markdown",
   "metadata": {},
   "source": []
  }
 ],
 "metadata": {
  "kernelspec": {
   "display_name": "Python 3",
   "language": "python",
   "name": "python3"
  },
  "language_info": {
   "codemirror_mode": {
    "name": "ipython",
    "version": 3
   },
   "file_extension": ".py",
   "mimetype": "text/x-python",
   "name": "python",
   "nbconvert_exporter": "python",
   "pygments_lexer": "ipython3",
   "version": "3.7.4"
  }
 },
 "nbformat": 4,
 "nbformat_minor": 2
}
