{
 "cells": [
  {
   "cell_type": "markdown",
   "metadata": {},
   "source": [
    "# Objective: Scrape everything on the page\n",
    " - creating breif of each legislator that contains sentator and rep info for each distict (for a 3rd party)\n",
    "     - legislative name/contact info\n",
    "     - picture\n",
    "     - capital office location\n",
    "     - district office location \n",
    "     - JJ usually prints a page ith senator info on front, and rep on back\n",
    "        "
   ]
  },
  {
   "cell_type": "code",
   "execution_count": 1,
   "metadata": {},
   "outputs": [],
   "source": [
    "# import dependacies \n",
    "\n",
    "from splinter import Browser\n",
    "from bs4 import BeautifulSoup\n",
    "import requests\n",
    "import re"
   ]
  },
  {
   "cell_type": "code",
   "execution_count": 2,
   "metadata": {},
   "outputs": [],
   "source": [
    "# set up the chrome driever\n",
    "executable_path = {'executable_path': 'chromedriver.exe'}\n",
    "browser = Browser('chrome', **executable_path, headless=False)"
   ]
  },
  {
   "cell_type": "code",
   "execution_count": 4,
   "metadata": {},
   "outputs": [],
   "source": [
    "# IL Genearl Assembly homepage\n",
    "url = 'http://www.ilga.gov'"
   ]
  },
  {
   "cell_type": "code",
   "execution_count": 5,
   "metadata": {},
   "outputs": [],
   "source": [
    "# retrieve the webpage, create BeautifulSoup object to parse the data\n",
    "browser.visit(url)\n",
    "html = browser.html\n",
    "soup = BeautifulSoup(html, 'html.parser')\n",
    "# print(soup.prettify())"
   ]
  },
  {
   "cell_type": "markdown",
   "metadata": {},
   "source": [
    "the tabel is in the body of the page\n",
    "    this tabel is in the td of another table\n",
    "  \n",
    "    this div is the td of a table\n",
    "    <div>\n",
    "    <table>\n",
    "    <tbody>\n",
    "    <tr>\n",
    "    <td>\n",
    "    <a class=\"homemenu\" href=\"/senate/\" title=\"View the biography, sponsored bills and committees for each Senate member\">\n",
    "                Members"
   ]
  },
  {
   "cell_type": "code",
   "execution_count": 6,
   "metadata": {},
   "outputs": [
    {
     "name": "stdout",
     "output_type": "stream",
     "text": [
      "http://www.ilga.gov/senate/\n"
     ]
    }
   ],
   "source": [
    "# Locate link to all Senators and go to the page \n",
    "links = soup.find_all(href=re.compile(\"/senate/\"), text='Members')\n",
    "\n",
    "for link in links:\n",
    "    reference = link.get('href')\n",
    "#     browser.click_link_by_partial_text('Members')\n",
    "    senate_url = url+reference\n",
    "print(senate_url)\n",
    "browser.visit(senate_url)\n",
    "html = browser.html\n",
    "senate_soup = BeautifulSoup(html, 'html.parser')\n",
    "# print(senate_soup.prettify())"
   ]
  },
  {
   "cell_type": "code",
   "execution_count": 7,
   "metadata": {},
   "outputs": [],
   "source": [
    "# for link in senate_soup.find_all('a'):\n",
    "#     print(link.get('href'))\n",
    "\n",
    "senator_links = senate_soup.find_all('a', {'class':'notranslate'})\n",
    "# senate_soup.find_all('a')\n",
    "\n",
    "# create empty list to hold all member urls\n",
    "senator_link_list = []\n",
    "\n",
    "# loop though senate page and add each member link to the senator_link_list\n",
    "for link in senator_links:\n",
    "    reference = link.get('href')\n",
    "#     browser.click_link_by_partial_text('Members')\n",
    "    senator_url = url+reference\n",
    "    senator_link_list.append(senator_url)\n",
    "    \n",
    "# print(senator_link_list[0])"
   ]
  },
  {
   "cell_type": "markdown",
   "metadata": {},
   "source": [
    "### Work with the link to the 1st senator's page, create series of functions to obtain the information on thier page. "
   ]
  },
  {
   "cell_type": "code",
   "execution_count": 8,
   "metadata": {},
   "outputs": [
    {
     "name": "stdout",
     "output_type": "stream",
     "text": [
      "<bound method Tag.prettify of <html lang=\"en\" style=\"height: 100%;\" xmlns=\"http://www.w3.org/1999/xhtml\"><!-- Trigger/Open The Modal --><head><link charset=\"UTF-8\" href=\"https://translate.googleapis.com/translate_static/css/translateelement.css\" rel=\"stylesheet\" type=\"text/css\"/><script charset=\"UTF-8\" src=\"https://translate.googleapis.com/translate_static/js/element/main.js\" type=\"text/javascript\"></script><script charset=\"UTF-8\" src=\"https://translate.googleapis.com/element/TE_20190916_00/e/js/element/element_main.js\" type=\"text/javascript\"></script></head><body alink=\"#9933FF\" bgcolor=\"#FFFFFF\" leftmargin=\"0\" link=\"#3366FF\" style=\"position: relative; min-height: 100%; top: 0px;\" text=\"#000000\" topmargin=\"0\" vlink=\"#663366\"><div style=\"position: fixed; z-index: 999; top: 5; left: 600; background-color: navy; display: block\">\n",
      "<button id=\"myBtn\" style=\"color: white; background-color: navy; display: block\">Translate Website</button></div>\n",
      "<!-- The Modal -->\n",
      "<div class=\"modal\" id=\"myModal\" style=\"display: none\">\n",
      "<!-- Modal content -->\n",
      "<div class=\"modal-content\">\n",
      "<div class=\"modal-header\"><h3>\n",
      "<span class=\"close\">×</span></h3></div>\n",
      "<p>The Illinois General Assembly offers the Google Translate™ service for visitor convenience. In no way should it be considered accurate as to the translation of any content herein.</p>\n",
      "<p>Visitors of the Illinois General Assembly website are encouraged to use other translation services available on the internet.</p>\n",
      "<p>The English language version is always the official and authoritative version of this website.</p>\n",
      "<p>NOTE: To return to the original English language version, select the \"Show Original\" button on the Google Translate™ menu bar at the top of the window.</p>\n",
      "<div style=\"text-align: center\">Powered by <span style=\"white-space: nowrap\"><a class=\"goog-logo-link\" href=\"https://translate.google.com\" target=\"_blank\"><img alt=\"Google Translate\" height=\"14\" src=\"https://www.gstatic.com/images/branding/googlelogo/1x/googlelogo_color_42x16dp.png\" style=\"padding-right: 3px;\" width=\"37\"/>Translate</a></span></div>\n",
      "<div id=\"google_translate_element\" style=\"text-align: center\"><div class=\"skiptranslate goog-te-gadget\" dir=\"ltr\" style=\"\"><div class=\"goog-te-gadget-simple\" id=\":0.targetLanguage\" style=\"white-space: nowrap;\"><img alt=\"\" class=\"goog-te-gadget-icon\" src=\"https://www.google.com/images/cleardot.gif\" style='background-image: url(\"https://translate.googleapis.com/translate_static/img/te_ctrl3.gif\"); background-position: -65px 0px;'/><span style=\"vertical-align: middle;\"><a aria-haspopup=\"true\" class=\"goog-te-menu-value\" href=\"javascript:void(0)\"><span>Select Language</span><img alt=\"\" height=\"1\" src=\"https://www.google.com/images/cleardot.gif\" width=\"1\"/><span style=\"border-left: 1px solid rgb(187, 187, 187);\">​</span><img alt=\"\" height=\"1\" src=\"https://www.google.com/images/cleardot.gif\" width=\"1\"/><span aria-hidden=\"true\" style=\"color: rgb(118, 118, 118);\">▼</span></a></span></div></div></div><br/><br/>\n",
      "<div class=\"modal-footer\">\n",
      "<h4></h4>\n",
      "</div>\n",
      "</div>\n",
      "</div>\n",
      "<script type=\"text/javascript\">\n",
      "    function googleTranslateWidgetInit() {\n",
      "        new google.translate.TranslateElement({ pageLanguage: 'en', layout: google.translate.TranslateElement.InlineLayout.SIMPLE, autoDisplay: false }, 'google_translate_element');\n",
      "    }\n",
      "</script><script src=\"//translate.google.com/translate_a/element.js?cb=googleTranslateWidgetInit\" type=\"text/javascript\"></script>\n",
      "<script type=\"text/javascript\">\n",
      "    // Get the modal\n",
      "    var modal = document.getElementById('myModal');\n",
      "    // Get the button that opens the modal\n",
      "    var btn = document.getElementById(\"myBtn\");\n",
      "    // Get the &lt;span&gt; element that closes the modal\n",
      "    var span = document.getElementsByClassName(\"close\")[0];\n",
      "    // When the user clicks on the button, open the modal \n",
      "    btn.onclick = function () {\n",
      "        modal.style.display = \"block\";\n",
      "    }\n",
      "    // When the user clicks on &lt;span&gt; (x), close the modal\n",
      "    span.onclick = function () {\n",
      "        modal.style.display = \"none\";\n",
      "    }\n",
      "    // When the user clicks anywhere outside of the modal, close it\n",
      "    window.onclick = function (event) {\n",
      "        if (event.target == modal) {\n",
      "            modal.style.display = \"none\";\n",
      "        }\n",
      "    }\n",
      "</script>\n",
      "<div id=\"divBackground\" style=\"position: fixed; z-index: 999; height: 100%; width: 100%; top: 0; left:0; background-color: Black; filter: alpha(opacity=60); opacity: 0.6; -moz-opacity: 0.8;display:none\">\n",
      "</div>\n",
      "<title>Illinois General Assembly - Senator Biography</title>\n",
      "<link href=\"/style/lis.css\" rel=\"stylesheet\" type=\"text/css\"/>\n",
      "<link href=\"/style/print.css\" media=\"print\" rel=\"stylesheet\" type=\"text/css\"/>\n",
      "<link href=\"http://info.er.usgs.gov/public/gils/gilsexec.html\" rel=\"GILS\"/>\n",
      "<link href=\"/LISlogo1.ico\" rel=\"Shortcut Icon\"/>\n",
      "<script language=\"JavaScript\" type=\"text/javascript\">\n",
      "&lt;!--\n",
      "\n",
      "if(window.event + \"\" == \"undefined\") event = null;\n",
      "function HM_f_PopUp(){return false};\n",
      "function HM_f_PopDown(){return false};\n",
      "popUp = HM_f_PopUp;\n",
      "popDown = HM_f_PopDown;\n",
      "\n",
      "//--&gt;\n",
      "</script>\n",
      "<!--\n",
      "    option explicit\n",
      "  -->\n",
      "<meta content='(PICS-1.1 \"http://www.weburbia.com/safe/ratings.htm\" l r (s 0))' http-equiv=\"PICS-Label\"/>\n",
      "<meta content=\"Government\" name=\"classification\"/>\n",
      "<meta content=\"Global\" name=\"distribution\"/>\n",
      "<meta content=\"General\" name=\"rating\"/>\n",
      "<meta content=\"IL\" name=\"contactState\"/>\n",
      "<meta content=\"Illinois General Assembly\" name=\"siteTitle\"/>\n",
      "<meta content=\"Illinois General Assembly, Senate, Senator, biography\" name=\"keywords\"/>\n",
      "<meta content=\"Biography for Illinois General Assembly Senator\" name=\"description\"/>\n",
      "<meta content=\"6/3/2002\" name=\"createDate\"/>\n",
      "<meta content=\"6/3/2002\" name=\"dateofLastModification\"/>\n",
      "<meta content=\"2001-2002\" name=\"timePeriodTextual\"/>\n",
      "<meta content=\"0000001\" name=\"originalControlIdentifier\"/>\n",
      "<meta content=\"Web Site\" name=\"medium\"/>\n",
      "<meta content=\"yes\" name=\"PermanentPublicAccess\"/>\n",
      "<meta content=\"Illinois General Assembly\" name=\"agencyProgram\"/>\n",
      "<meta content=\"\" name=\"linkage\"/>\n",
      "<meta content=\"EN\" name=\"language\"/>\n",
      "<meta content=\"State\" name=\"govType\"/>\n",
      "<meta content=\"Legislative Information System\" name=\"contactName\"/>\n",
      "<meta content=\"LIS Staff Services\" name=\"contactOrganization\"/>\n",
      "<meta content=\"705 Stratton Office Building\" name=\"contactStreetAddress1\"/>\n",
      "<meta content=\"\" name=\"contactStreetAddress2\"/>\n",
      "<meta content=\"Springfield\" name=\"contactCity\"/>\n",
      "<meta content=\"62706\" name=\"contactZipcode\"/>\n",
      "<meta content=\"webmaster@ilga.gov\" name=\"contactNetworkAddress\"/>\n",
      "<meta content=\"217-782-3944\" name=\"contactPhoneNumber\"/>\n",
      "<meta content=\"217-524-6059\" name=\"contactFaxNumber\"/>\n",
      "<meta content=\"State Of Illinois\" name=\"originatorJurisdiction\"/>\n",
      "<meta content=\"Illinois General Assembly\" name=\"originatorOffice\"/>\n",
      "<meta content=\"Legislative Information System\" name=\"originatorDepartment\"/>\n",
      "<meta content=\"Web Staff\" name=\"originatorDivision\"/>\n",
      "<meta content=\"\" name=\"originatorSection\"/>\n",
      "<meta content=\"Government--State Government--Illinois General Assembly\" name=\"Classification\"/>\n",
      "<!-- Begin Body Start -->\n",
      "<script language=\"JavaScript1.2\" src=\"/include/script/HM_Loader.js\" type=\"text/javascript\"></script><script language=\"JavaScript1.2\" src=\"/include/script/HM_Arrays.js\" type=\"text/javascript\"></script><script language=\"JavaScript1.2\" src=\"/include/script/HM_ScriptDOM.js\" type=\"text/javascript\"></script>\n",
      "<table align=\"left\" border=\"0\" cellpadding=\"0\" cellspacing=\"0\" width=\"100%\">\n",
      "<tbody><tr id=\"Senate\">\n",
      "<td colspan=\"4\"><a href=\"/default.asp\"><img alt=\"Illinois General Assembly\" border=\"0\" height=\"49\" src=\"/images/logo_sm.gif\" width=\"462\"/></a>\n",
      "</td>\n",
      "</tr>\n",
      "<tr>\n",
      "<td align=\"left\" colspan=\"4\" valign=\"top\">\n",
      "<table border=\"0\" cellspacing=\"0\" class=\"mainmenu\" width=\"100%\">\n",
      "<tbody><tr id=\"Senate\">\n",
      "<td height=\"25\" nowrap=\"\">  <a class=\"mainmenu\" href=\"/\">Home</a>  </td>\n",
      "<td height=\"25\" nowrap=\"\">  <a class=\"mainmenu\" href=\"/legislation/\" onblur=\"HM_f_PopDown('elMenu1')\" onfocus=\"HM_f_PopUp('elMenu1',event)\" onmouseout=\"HM_f_PopDown('elMenu1')\" onmouseover=\"HM_f_PopUp('elMenu1',event)\">Legislation &amp; Laws</a>  </td>\n",
      "<td height=\"25\" nowrap=\"\">  <a class=\"mainmenu\" href=\"/senate/\" onblur=\"HM_f_PopDown('elMenu3')\" onfocus=\"HM_f_PopUp('elMenu3',event)\" onmouseout=\"HM_f_PopDown('elMenu3')\" onmouseover=\"HM_f_PopUp('elMenu3',event)\">Senate</a>  </td>\n",
      "<td height=\"25\" nowrap=\"\">  <a class=\"mainmenu\" href=\"/house/\" onblur=\"HM_f_PopDown('elMenu2')\" onfocus=\"HM_f_PopUp('elMenu2',event)\" onmouseout=\"HM_f_PopDown('elMenu2')\" onmouseover=\"HM_f_PopUp('elMenu2',event)\">House</a>  </td>\n",
      "<td height=\"25\" nowrap=\"\">  <a class=\"mainmenu\" href=\"/mylegislation/\" onblur=\"HM_f_PopDown('elMenu4')\" onfocus=\"HM_f_PopUp('elMenu4',event)\" onmouseout=\"HM_f_PopDown('elMenu4')\" onmouseover=\"HM_f_PopUp('elMenu4',event)\">My Legislation</a>  </td>\n",
      "<td height=\"25\" nowrap=\"\">  <a class=\"mainmenu\" href=\"/sitemap.asp\">Site Map</a>  </td>\n",
      "<td align=\"right\" height=\"25\" width=\"99%\">\n",
      "             \n",
      "            </td>\n",
      "</tr>\n",
      "</tbody></table>\n",
      "</td>\n",
      "</tr>\n",
      "<tr>\n",
      "<td valign=\"top\"><br/>\n",
      "<table border=\"0\" cellpadding=\"0\" cellspacing=\"2\" class=\"sidemenu\" id=\"Senate\" width=\"140\"><tbody><tr><td class=\"sidemenu\" nowrap=\"\"><b><a class=\"sidemenu\" href=\"/senate/default.asp\">  Members  </a></b></td></tr><tr><td class=\"sidemenu\" nowrap=\"\"><a class=\"sidemenu\" href=\"/senate/committees/default.asp\">  Committees  </a></td></tr><tr><td class=\"sidemenu\" nowrap=\"\"><a class=\"sidemenu\" href=\"/senate/schedules/default.asp\">  Schedules  </a></td></tr><tr><td class=\"sidemenu\" nowrap=\"\"><a class=\"sidemenu\" href=\"/senate/journals/default.asp\">  Journals  </a></td></tr><tr><td class=\"sidemenu\" nowrap=\"\"><a class=\"sidemenu\" href=\"/senate/transcripts/default.asp\">  Transcripts  </a></td></tr><tr><td class=\"sidemenu\" nowrap=\"\"><a class=\"sidemenu\" href=\"/senate/rules.asp\">  Rules  </a></td></tr><tr><td class=\"sidemenu\" nowrap=\"\"><a class=\"sidemenu\" href=\"/senateaudvid.asp\">  Live Audio/Video  </a></td></tr><tr><td class=\"sidemenu\" nowrap=\"\" width=\"90%\"></td></tr></tbody></table></td><td class=\"verticalline\" width=\"1\"><img height=\"1\" src=\"/images/1ptrans.gif\" width=\"1\"/></td><td align=\"left\" valign=\"top\" width=\"99%\"><table align=\"left\" border=\"0\" width=\"490\"><tbody><tr><td width=\"100%\"><br/>\n",
      "<!-- End Body Start -->\n",
      "<!--Begin Custom Page Content -->\n",
      "<table border=\"0\" bordercolor=\"white\" cellpadding=\"0\" cellspacing=\"0\" width=\"425\"><tbody><tr><td align=\"center\" bgcolor=\"silver\" class=\"tabcontrol\" width=\"25%\"><font color=\"navy\" face=\"arial\" size=\"2\"><b>Biography</b></font></td><td align=\"center\" bgcolor=\"navy\" class=\"tabcontrol\" width=\"25%\"><font color=\"white\" face=\"arial\" size=\"2\"><a class=\"filetab\" href=\"SenatorBills.asp?MemberID=2664&amp;GA=101\">Bills</a></font></td><td align=\"center\" bgcolor=\"navy\" class=\"tabcontrol\" width=\"35%\"><font color=\"white\" face=\"arial\" size=\"2\"><a class=\"filetab\" href=\"SenCommittees.asp?MemberID=2664&amp;GA=101\">Committees</a></font></td><td> </td></tr><tr><td class=\"tabbottom\" colspan=\"4\"> </td></tr></tbody></table><span class=\"heading\">Senator  </span><span class=\"heading notranslate\">Neil Anderson (R)</span><br/><span class=\"heading2 notranslate\">36th</span><span class=\"heading2 notranslate\"> </span><span class=\"heading2\">District</span><br/><span class=\"heading2\">Assistant Republican Leader</span>\n",
      "<table border=\"0\" cellpadding=\"1\" cellspacing=\"1\" class=\"notranslate\" width=\"425\">\n",
      "<tbody><tr><td align=\"left\" rowspan=\"16\" valign=\"top\">\n",
      "<br/><img alt='Photograph of  Senator  &lt;/span&gt;&lt;span class=\"heading notranslate\"&gt;Neil Anderson (R)' height=\"216\" src=\"/images/members/{90CDA259-1DEA-4D18-AE97-30051E03D154}.jpg\" width=\"144\"/></td>\n",
      "<td width=\"5\"> </td>\n",
      "<td width=\"100%\">\n",
      "<table border=\"0\" width=\"100%\"><tbody><tr><td class=\"member\" valign=\"top\" width=\"100%\"><br/><b>Springfield Office:</b></td></tr><tr><td class=\"member\" width=\"100%\">Senator 36th District</td></tr><tr><td class=\"member\" width=\"100%\">M103D  Capitol Building</td></tr><tr><td class=\"member\" width=\"100%\">Springfield, IL   62706    </td></tr><tr><td class=\"member\" width=\"100%\">(217) 782-5957</td></tr><tr><td class=\"member\" width=\"100%\"> </td></tr></tbody></table><table border=\"0\" width=\"100%\"><tbody><tr><td class=\"member\" width=\"100%\"></td></tr><tr><td class=\"member\" width=\"100%\"><b>District Office:</b></td></tr><tr><td class=\"member\" width=\"100%\">1523 47th Ave.</td></tr><tr><td class=\"member\" width=\"100%\">Suite 2</td></tr><tr><td class=\"member\" width=\"100%\">Moline, IL  61265    </td></tr><tr><td class=\"member\" width=\"100%\">(309) 736-7084</td></tr></tbody></table></td></tr></tbody></table><br/><table border=\"0\" width=\"390\"><tbody><tr><td class=\"member\"><b>Years served: </b> <br/><br/><b>Committee assignments:</b> Committee of the Whole; Commerce and Economic Development; Energy and Public Utilities; Licensed Activities (Minority Spokesperson); Transportation; Veterans Affairs; Subcommittee on Capital (TR); Oversight Medicaid Mang. Care, Spec; Opioid Crisis Abatement Spec. Com..<br/><br/><b>Biography:</b> <br/><br/></td></tr></tbody></table>\n",
      "<table border=\"0\" cellpadding=\"0\" cellspacing=\"0\" width=\"100%\"><tbody><tr><td class=\"heading\">\n",
      "\tAssociated Representative(s): </td>\n",
      "<td><a class=\"notranslate\" href=\"/house/Rep.asp?MemberID=2688\">Tony McCombie</a><br/></td></tr><tr><td> </td><td><a class=\"notranslate\" href=\"/house/Rep.asp?MemberID=2685\">Michael Halpin</a><br/></td></tr></tbody></table>\n",
      "<p><br/></p><p><br/></p><p>\n",
      "<!--End Custom Page Content-->\n",
      "<!--Begin Page End-->\n",
      "</p></td></tr>\n",
      "<tr id=\"Senate\">\n",
      "<td>\n",
      "<table align=\"center\" border=\"0\" cellpadding=\"0\" cellspacing=\"0\" class=\"footer\" width=\"100%\">\n",
      "<tbody><tr>\n",
      "<td align=\"center\" colspan=\"2\"><hr color=\"navy\" noshade=\"True\"/>\n",
      "<a class=\"footer\" href=\"/\" title=\"View the General Assembly web site home page\">Home</a> | \n",
      "      <a class=\"footer\" href=\"/legislation/\" title=\"View Legislation and Laws\">Legislation &amp; Laws</a> | \n",
      "      <a class=\"footer\" href=\"/house/default.asp\" title=\"View information regarding House of Representatives\">House</a> | \n",
      "      <a class=\"footer\" href=\"/senate/default.asp\" title=\"View information regarding Senate\">Senate</a> |\n",
      "      <a class=\"footer\" href=\"/mylegislation/default.asp\" title=\"Set up customized queries, create reports for tracking, etc.\">My Legislation</a> |\n",
      "      <a class=\"footer\" href=\"/disclaimer.asp\" title=\"Disclaimers regarding the Illinois General Assembly web site\">Disclaimers</a> |\n",
      "      <a class=\"footer\" href=\"/contact.asp\" title=\"Contact the Illinois General Assembly Web Support Staff\">Email</a>\n",
      "</td>\n",
      "</tr>\n",
      "<tr>\n",
      "<td align=\"center\" colspan=\"2\"><hr color=\"navy\" noshade=\"True\"/><br/></td>\n",
      "</tr>\n",
      "<tr>\n",
      "<td align=\"left\" class=\"footer\" width=\"107\">  <img alt=\"Legislative Information System logo\" height=\"45\" src=\"/images/lislogo.jpg\" width=\"100\"/></td>\n",
      "<td align+\"left\"=\"\" class=\"footer\" valign=\"top\" width=\"100%\">This site is maintained for the Illinois General Assembly \n",
      "by the<br/>Legislative Information System, 705 Stratton Building, Springfield, Illinois 62706<br/> \n",
      "217-782-3944   217-782-2050 (TTY) \n",
      "<br/>\n",
      "</td>\n",
      "</tr>\n",
      "</tbody></table>\n",
      "</td>\n",
      "</tr>\n",
      "</tbody></table>\n",
      "<p> </p><br/>\n",
      "</td>\n",
      "</tr>\n",
      "</tbody></table>\n",
      "<!--End Page End--><div class=\"skiptranslate\" dir=\"ltr\" id=\"goog-gt-tt\"><div style=\"padding: 8px;\"><div><div class=\"logo\"><img alt=\"Google Translate\" height=\"20\" src=\"https://www.gstatic.com/images/branding/product/1x/translate_24dp.png\" width=\"20\"/></div></div></div><div class=\"top\" style=\"padding: 8px; float: left; width: 100%;\"><h1 class=\"title gray\">Original text</h1></div><div class=\"middle\" style=\"padding: 8px;\"><div class=\"original-text\"></div></div><div class=\"bottom\" style=\"padding: 8px;\"><div class=\"activity-links\"><span class=\"activity-link\">Contribute a better translation</span><span class=\"activity-link\"></span></div><div class=\"started-activity-container\"><hr style=\"color: #CCC; background-color: #CCC; height: 1px; border: none;\"/><div class=\"activity-root\"></div></div></div><div class=\"status-message\" style=\"display: none;\"></div></div>\n",
      "<div class=\"goog-te-spinner-pos\"><div class=\"goog-te-spinner-animation\"><svg class=\"goog-te-spinner\" height=\"96px\" viewbox=\"0 0 66 66\" width=\"96px\" xmlns=\"http://www.w3.org/2000/svg\"><circle class=\"goog-te-spinner-path\" cx=\"33\" cy=\"33\" fill=\"none\" r=\"30\" stroke-linecap=\"round\" stroke-width=\"6\"></circle></svg></div></div><iframe class=\"goog-te-menu-frame skiptranslate\" frameborder=\"0\" style=\"visibility: visible; box-sizing: content-box; width: 1027px; height: 274px; display: none;\" title=\"Language Translate Widget\"></iframe></body></html>>\n"
     ]
    }
   ],
   "source": [
    "# visit the first senator page\n",
    "\n",
    "browser.visit(senator_link_list[0])\n",
    "html = browser.html\n",
    "senator_soup = BeautifulSoup(html, 'html.parser')\n",
    "# print(senator_soup.prettify)"
   ]
  },
  {
   "cell_type": "code",
   "execution_count": 23,
   "metadata": {},
   "outputs": [],
   "source": [
    "# Obtain the senator's and district number\n",
    "senator_name = senator_soup.find('span', {'class':'notranslate'}).text\n",
    "senator_district = senator_soup.find('span', {'class':'heading2 notranslate'}).text\n",
    "\n",
    "# print(senator_name)\n",
    "# print(senator_district)"
   ]
  },
  {
   "cell_type": "code",
   "execution_count": 58,
   "metadata": {},
   "outputs": [],
   "source": [
    "# Obtain the link to the image of the senator \n",
    "\n",
    "# Obtain the parital image link from the senator's webpage\n",
    "senator_img_partial = senator_soup.find('table', {'class' : 'notranslate'}).img['src']\n",
    "# senator_img_partial\n",
    "\n",
    "\n",
    "# obtain the full image link by combining the orignal il.gov url with the partial senator image link\n",
    "senator_img = url + senator_img_partial\n",
    "# senator_img"
   ]
  },
  {
   "cell_type": "code",
   "execution_count": 64,
   "metadata": {},
   "outputs": [
    {
     "data": {
      "text/plain": [
       "'Assistant Republican Leader'"
      ]
     },
     "execution_count": 64,
     "metadata": {},
     "output_type": "execute_result"
    }
   ],
   "source": [
    "# Get the leadership name\n",
    "senator_position_all = senator_soup.find_all('span', {'class':'heading2'})\n",
    "senator_position[3].text"
   ]
  },
  {
   "cell_type": "code",
   "execution_count": 67,
   "metadata": {},
   "outputs": [
    {
     "data": {
      "text/plain": [
       "[<td class=\"member\" valign=\"top\" width=\"100%\"><br/><b>Springfield Office:</b></td>,\n",
       " <td class=\"member\" width=\"100%\">Senator 36th District</td>,\n",
       " <td class=\"member\" width=\"100%\">M103D  Capitol Building</td>,\n",
       " <td class=\"member\" width=\"100%\">Springfield, IL   62706    </td>,\n",
       " <td class=\"member\" width=\"100%\">(217) 782-5957</td>,\n",
       " <td class=\"member\" width=\"100%\"> </td>,\n",
       " <td class=\"member\" width=\"100%\"></td>,\n",
       " <td class=\"member\" width=\"100%\"><b>District Office:</b></td>,\n",
       " <td class=\"member\" width=\"100%\">1523 47th Ave.</td>,\n",
       " <td class=\"member\" width=\"100%\">Suite 2</td>,\n",
       " <td class=\"member\" width=\"100%\">Moline, IL  61265    </td>,\n",
       " <td class=\"member\" width=\"100%\">(309) 736-7084</td>,\n",
       " <td class=\"member\"><b>Years served: </b> <br/><br/><b>Committee assignments:</b> Committee of the Whole; Commerce and Economic Development; Energy and Public Utilities; Licensed Activities (Minority Spokesperson); Transportation; Veterans Affairs; Subcommittee on Capital (TR); Oversight Medicaid Mang. Care, Spec; Opioid Crisis Abatement Spec. Com..<br/><br/><b>Biography:</b> <br/><br/></td>]"
      ]
     },
     "execution_count": 67,
     "metadata": {},
     "output_type": "execute_result"
    }
   ],
   "source": [
    "# Most of the sentor info are in tables, so can gather the address and committee assignments from td in the \"member\" class\n",
    "senator_info_list = senator_soup.find_all('td', {'class': 'member'})\n",
    "senator_info_list"
   ]
  },
  {
   "cell_type": "code",
   "execution_count": 71,
   "metadata": {},
   "outputs": [],
   "source": [
    "# Springfield office information\n",
    "\n",
    "senator_springfield_address_line1 = senator_info_list[1].text\n",
    "# senator_springfield_address_line1\n",
    "senator_springfield_address_line2 = senator_info_list[2].text\n",
    "senator_springfield_address_line3 = senator_info_list[3].text\n",
    "\n",
    "senator_springfield_phone_number = senator_info_list[4].text\n"
   ]
  },
  {
   "cell_type": "code",
   "execution_count": 73,
   "metadata": {},
   "outputs": [
    {
     "data": {
      "text/plain": [
       "'1523 47th Ave.'"
      ]
     },
     "execution_count": 73,
     "metadata": {},
     "output_type": "execute_result"
    }
   ],
   "source": [
    "#  District office information\n",
    "\n",
    "senator_district_address_line1 = senator_info_list[8].text\n",
    "\n",
    "senator_district_address_line2 = senator_info_list[9].text\n",
    "senator_district_address_line3 = senator_info_list[10].text\n",
    "\n",
    "senator_district_phone_number = senator_info_list[11].text\n",
    "\n",
    "# senator_district_address_line1"
   ]
  },
  {
   "cell_type": "code",
   "execution_count": 77,
   "metadata": {},
   "outputs": [
    {
     "data": {
      "text/plain": [
       "'Years served:  Committee assignments: Committee of the Whole; Commerce and Economic Development; Energy and Public Utilities; Licensed Activities (Minority Spokesperson); Transportation; Veterans Affairs; Subcommittee on Capital (TR); Oversight Medicaid Mang. Care, Spec; Opioid Crisis Abatement Spec. Com..Biography: '"
      ]
     },
     "execution_count": 77,
     "metadata": {},
     "output_type": "execute_result"
    }
   ],
   "source": [
    "# Senator info: The # of years served, committee assignments, and biographhy are all under the same child tag\n",
    "\n",
    "senator_bio_info  = senator_info_list[12].text\n",
    "senator_bio_info"
   ]
  },
  {
   "cell_type": "code",
   "execution_count": 87,
   "metadata": {},
   "outputs": [
    {
     "data": {
      "text/plain": [
       "[<a class=\"notranslate\" href=\"/house/Rep.asp?MemberID=2688\">Tony McCombie</a>,\n",
       " <a class=\"notranslate\" href=\"/house/Rep.asp?MemberID=2685\">Michael Halpin</a>]"
      ]
     },
     "execution_count": 87,
     "metadata": {},
     "output_type": "execute_result"
    }
   ],
   "source": [
    "ass_reps_tag = senator_soup.find_all('a', {'class': 'notranslate'})\n",
    "ass_reps_tag"
   ]
  },
  {
   "cell_type": "code",
   "execution_count": 92,
   "metadata": {},
   "outputs": [],
   "source": [
    "current_senator_assoc_reps = []\n",
    "for tag in ass_reps_tag:\n",
    "    rep = tag.text\n",
    "    current_senator_assoc_reps.append(rep)\n",
    "#     print(rep)\n",
    "# current_senator_assoc_reps"
   ]
  },
  {
   "cell_type": "markdown",
   "metadata": {},
   "source": [
    "## Create a function that will go to each senator's page and scrape thier information."
   ]
  },
  {
   "cell_type": "code",
   "execution_count": null,
   "metadata": {},
   "outputs": [],
   "source": []
  }
 ],
 "metadata": {
  "kernelspec": {
   "display_name": "Python 3",
   "language": "python",
   "name": "python3"
  },
  "language_info": {
   "codemirror_mode": {
    "name": "ipython",
    "version": 3
   },
   "file_extension": ".py",
   "mimetype": "text/x-python",
   "name": "python",
   "nbconvert_exporter": "python",
   "pygments_lexer": "ipython3",
   "version": "3.7.4"
  }
 },
 "nbformat": 4,
 "nbformat_minor": 2
}
